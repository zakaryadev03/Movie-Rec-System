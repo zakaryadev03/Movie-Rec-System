{
 "cells": [
  {
   "cell_type": "code",
   "execution_count": 1,
   "metadata": {},
   "outputs": [],
   "source": [
    "import pandas as pd\n",
    "import numpy as np\n",
    "from sklearn.preprocessing import StandardScaler\n",
    "from scipy.sparse import csr_matrix"
   ]
  },
  {
   "cell_type": "code",
   "execution_count": 3,
   "metadata": {},
   "outputs": [],
   "source": [
    "ratings = pd.read_csv(\"../data/cleaned/cleaned_ratings.csv\")\n",
    "movies = pd.read_csv(\"../data/cleaned/cleaned_movies.csv\")"
   ]
  },
  {
   "cell_type": "code",
   "execution_count": 6,
   "metadata": {},
   "outputs": [
    {
     "name": "stdout",
     "output_type": "stream",
     "text": [
      "   userId  movieId  rating\n",
      "0       1        1     4.0\n",
      "1       1      110     4.0\n",
      "2       1      158     4.0\n",
      "3       1      260     4.5\n",
      "4       1      356     5.0\n",
      "userId       int64\n",
      "movieId      int64\n",
      "rating     float64\n",
      "dtype: object\n",
      "userId     0\n",
      "movieId    0\n",
      "rating     0\n",
      "dtype: int64\n",
      "0\n"
     ]
    }
   ],
   "source": [
    "print(ratings.head())  # Display first rows\n",
    "print(ratings.dtypes)  # Check data types\n",
    "print(ratings.isnull().sum())  # Check for NaNs\n",
    "print(ratings.duplicated(subset=[\"userId\", \"movieId\"]).sum())  # Check for duplicates"
   ]
  },
  {
   "cell_type": "code",
   "execution_count": 8,
   "metadata": {},
   "outputs": [
    {
     "name": "stdout",
     "output_type": "stream",
     "text": [
      "(330976, 288766)\n"
     ]
    }
   ],
   "source": [
    "from scipy.sparse import csr_matrix\n",
    "\n",
    "# Create User-Item matrix in sparse format\n",
    "user_item_matrix = csr_matrix(\n",
    "    (ratings[\"rating\"], (ratings[\"userId\"], ratings[\"movieId\"]))\n",
    ")\n",
    "\n",
    "print(user_item_matrix.shape)  # Check dimensions"
   ]
  },
  {
   "cell_type": "code",
   "execution_count": 9,
   "metadata": {},
   "outputs": [
    {
     "name": "stdout",
     "output_type": "stream",
     "text": [
      "First 10 users' clusters: [0 3 2 3 3 3 3 7 0 2]\n"
     ]
    }
   ],
   "source": [
    "from sklearn.cluster import MiniBatchKMeans\n",
    "\n",
    "# Choose number of clusters (e.g., 10)\n",
    "n_clusters = 10  \n",
    "kmeans = MiniBatchKMeans(n_clusters=n_clusters, random_state=42, batch_size=10000)\n",
    "\n",
    "# Fit clustering model\n",
    "kmeans.fit(user_item_matrix)\n",
    "\n",
    "# Assign cluster labels to users\n",
    "user_clusters = kmeans.labels_\n",
    "\n",
    "# Print first 10 user clusters\n",
    "print(\"First 10 users' clusters:\", user_clusters[:10])"
   ]
  }
 ],
 "metadata": {
  "kernelspec": {
   "display_name": "base",
   "language": "python",
   "name": "python3"
  },
  "language_info": {
   "codemirror_mode": {
    "name": "ipython",
    "version": 3
   },
   "file_extension": ".py",
   "mimetype": "text/x-python",
   "name": "python",
   "nbconvert_exporter": "python",
   "pygments_lexer": "ipython3",
   "version": "3.12.7"
  }
 },
 "nbformat": 4,
 "nbformat_minor": 2
}
